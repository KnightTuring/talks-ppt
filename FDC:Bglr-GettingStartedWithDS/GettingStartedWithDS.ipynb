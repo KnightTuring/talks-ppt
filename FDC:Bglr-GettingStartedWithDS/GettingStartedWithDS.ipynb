{
 "cells": [
  {
   "cell_type": "markdown",
   "metadata": {
    "slideshow": {
     "slide_type": "slide"
    }
   },
   "source": [
    "# Getting started with Data Science\n",
    "## Explained in 3 parts - as a superhero trilogy movie series\n",
    "\n",
    "##### Facebook Developer Circle:Bengaluru\n",
    "##### Abdul Wasay\n",
    "##### June 7, 2020\n",
    "\n",
    "\n"
   ]
  },
  {
   "cell_type": "markdown",
   "metadata": {
    "slideshow": {
     "slide_type": "slide"
    }
   },
   "source": [
    "# Part 1: Origins\n",
    "## Discovering your powers and learning to use them\n",
    "\n",
    "![Mark-1](./images/ironMan-Mark1.jpg)"
   ]
  },
  {
   "cell_type": "markdown",
   "metadata": {
    "slideshow": {
     "slide_type": "subslide"
    }
   },
   "source": [
    "#### Welcome to the world of Data Science\n",
    "<ul>\n",
    "    <li>Computers started becoming more intertwined with our daily lives</li>\n",
    "    <li>Cheaper hardware and rapid advances in technology facilitated this almost exponential growth</li>\n",
    "    <li>Computers needed to store data for offering better functionalities thus files came into existence (1960-1970)</li>\n",
    "    <li>Files were later replaced by better relational database systems that offerrred efficient storage, management and retrieval of data</li>\n",
    "    <li>Databases grew even more powerful and advanced and with the entry of the internet, things got even better,</li>\n",
    "    </ul>\n",
    "    "
   ]
  },
  {
   "cell_type": "markdown",
   "metadata": {
    "slideshow": {
     "slide_type": "subslide"
    }
   },
   "source": [
    "<ul>\n",
    "<li>With such humongous amounts of data there came a situation best described as \"data rich but information poor</li>\n",
    "    <li>Ths emerged the concept of Knowledge discovery in databases (KDD) a.k.a Knowledge mining a.k.a Data Mining</li>\n",
    "</ul>"
   ]
  },
  {
   "cell_type": "markdown",
   "metadata": {
    "slideshow": {
     "slide_type": "subslide"
    }
   },
   "source": [
    "#### Data Science\n",
    "<p> Data Science is a multidisciplinary field. It encompasses techniques from various domains.</p>\n",
    "<ul>\n",
    "    <li> Database technology</li>\n",
    "    <li> Machine learning</li>\n",
    "    <li> Statistics and pattern recognition </li>\n",
    "    <li> Information retrieval </li>\n",
    "    <li> Neural networks </li>\n",
    "    <li> Knowledge-based systems </li>\n",
    "    <li> Artificial intelligence </li>\n",
    "    <li> High performance computing </li>\n",
    "    <li> Data visualization </li>\n",
    "\n"
   ]
  },
  {
   "cell_type": "markdown",
   "metadata": {
    "slideshow": {
     "slide_type": "subslide"
    }
   },
   "source": [
    "#### So its just running my code on datasets then?\n",
    "##### nah, not really.\n",
    "\n",
    "Knowledge discovery from data takes the following steps:\n",
    "\n",
    "- **Data cleaning**: Data will not be readily available in your desried format\n",
    "- **Data integration**: You can't really look for data in just one place\n",
    "- **Data selection**: You need to find needles in the haystack\n",
    "- **Data transformation**: Your code has limitations on the types of data it can run analysis on\n",
    "- **Pattern evaluation**: As the name suggests, look for patterns in the data\n",
    "- **Knowledge presentation**: Sometimes pictures speak louder than words\n"
   ]
  },
  {
   "cell_type": "markdown",
   "metadata": {
    "slideshow": {
     "slide_type": "subslide"
    }
   },
   "source": [
    "What languages can you use to work on datasets and run algorithms:\n",
    "- **Python**\n",
    "    - Support for object oriented, structural and functional styles of programming\n",
    "    - Vast libraries available for data science applications\n",
    "    - Not the fastest or the best in comparison to other procedural or object oriented languages but it gets the job done and is easy to get acquainted with \n",
    "- **R** \n",
    "    - Language for statistical computing and graphics\n",
    "    - Pretty simple \"language\" to learn\n",
    "    - Its developers though prefer to call it as an environment where the language is but one part in the larger scheme of things\n",
    "    "
   ]
  },
  {
   "cell_type": "markdown",
   "metadata": {
    "slideshow": {
     "slide_type": "subslide"
    }
   },
   "source": [
    "## Phew, now that's an entirely new paradigm\n"
   ]
  },
  {
   "cell_type": "markdown",
   "metadata": {
    "slideshow": {
     "slide_type": "slide"
    }
   },
   "source": [
    "### Part 2: Mastering your powers\n",
    "#### Every superhero needs training, learn to use your knowledge and the subsequent abilities they grant you towards solving problems\n",
    "![Mark-2](./images/ironMan-Mark2.jpg)"
   ]
  },
  {
   "cell_type": "markdown",
   "metadata": {
    "slideshow": {
     "slide_type": "subslide"
    }
   },
   "source": [
    "One of the very first things you should do when getting started with anything new is to learn and master the fundamentals. In data science, the fundamental concepts form a long long list but you can get started with a few basic algorithms. \n",
    "\n",
    "While learning these algorithms, try to implement them in code too.\n",
    "\n",
    "A look at one such algorithm that allows one to generate insights from data:\n",
    "\n",
    "- Association rule mining \n"
   ]
  },
  {
   "cell_type": "markdown",
   "metadata": {
    "slideshow": {
     "slide_type": "subslide"
    }
   },
   "source": [
    "## Association rule mining"
   ]
  },
  {
   "cell_type": "markdown",
   "metadata": {
    "slideshow": {
     "slide_type": "subslide"
    }
   },
   "source": [
    "Association Rule Mining is used to identify relations between items based on historical data.\n",
    "\n",
    "1. How probable is a customer to buy Item X if they bought Item Y\n",
    "2. How probable is a customer to watch movie X if they watched movie Y"
   ]
  },
  {
   "cell_type": "markdown",
   "metadata": {
    "slideshow": {
     "slide_type": "subslide"
    }
   },
   "source": [
    "1. Support: Refers to popularity of the item.\n",
    "\n",
    "    Support = Transactions containing item / Total transactions"
   ]
  },
  {
   "cell_type": "markdown",
   "metadata": {
    "slideshow": {
     "slide_type": "subslide"
    }
   },
   "source": [
    "2. Confidence: The likelihood that an item B is also bought if item A is bought.\n",
    "\n",
    "    Confidence (A -> B) = (Transactions containing both (A and B)) / (Transactions containing A)"
   ]
  },
  {
   "cell_type": "markdown",
   "metadata": {
    "slideshow": {
     "slide_type": "subslide"
    }
   },
   "source": [
    "3. Lift: Lift refers to the increase in the ratio of the sale of B when A is sold. \n",
    "\n",
    "    Lift(A –> B) can be calculated by dividing Confidence(A -> B) divided by Support(B). "
   ]
  },
  {
   "cell_type": "markdown",
   "metadata": {
    "slideshow": {
     "slide_type": "subslide"
    }
   },
   "source": [
    "Demo on Apriori Algorithm"
   ]
  },
  {
   "cell_type": "markdown",
   "metadata": {
    "slideshow": {
     "slide_type": "subslide"
    }
   },
   "source": [
    "Step 1: Get the libraries"
   ]
  },
  {
   "cell_type": "code",
   "execution_count": 1,
   "metadata": {
    "slideshow": {
     "slide_type": "subslide"
    }
   },
   "outputs": [],
   "source": [
    "import numpy as np\n",
    "import pandas as pd\n",
    "from apyori import apriori"
   ]
  },
  {
   "cell_type": "markdown",
   "metadata": {
    "slideshow": {
     "slide_type": "subslide"
    }
   },
   "source": [
    "Step 2: Read the dataset"
   ]
  },
  {
   "cell_type": "code",
   "execution_count": 2,
   "metadata": {
    "slideshow": {
     "slide_type": "subslide"
    }
   },
   "outputs": [
    {
     "name": "stdout",
     "output_type": "stream",
     "text": [
      "Number of records found:  7500\n"
     ]
    }
   ],
   "source": [
    "dataset_movies = pd.read_csv(\"./datasets/movies/movie_dataset.csv\")\n",
    "print(\"Number of records found: \", len(dataset_movies))"
   ]
  },
  {
   "cell_type": "markdown",
   "metadata": {
    "slideshow": {
     "slide_type": "subslide"
    }
   },
   "source": [
    "Step 3: Convert data frame into list of lists"
   ]
  },
  {
   "cell_type": "code",
   "execution_count": 3,
   "metadata": {
    "slideshow": {
     "slide_type": "subslide"
    }
   },
   "outputs": [
    {
     "name": "stdout",
     "output_type": "stream",
     "text": [
      "First element:  ['Beirut', 'Martian', 'Get Out', 'nan', 'nan', 'nan', 'nan', 'nan', 'nan', 'nan', 'nan', 'nan', 'nan', 'nan', 'nan', 'nan', 'nan', 'nan', 'nan', 'nan']\n"
     ]
    }
   ],
   "source": [
    "dataset_as_list = []\n",
    "for each_row in range(0, 200):\n",
    "    row_as_list_of_strings = []\n",
    "    for each_column in range(0, 20):\n",
    "        single_entry_as_string = str(dataset_movies.values[each_row, each_column])\n",
    "        row_as_list_of_strings.append(single_entry_as_string)\n",
    "    dataset_as_list.append(row_as_list_of_strings)\n",
    "print(\"First element: \", dataset_as_list[0])"
   ]
  },
  {
   "cell_type": "markdown",
   "metadata": {
    "slideshow": {
     "slide_type": "subslide"
    }
   },
   "source": [
    "Step 4: Generate association rules"
   ]
  },
  {
   "cell_type": "code",
   "execution_count": 4,
   "metadata": {
    "slideshow": {
     "slide_type": "subslide"
    }
   },
   "outputs": [],
   "source": [
    "association_rules = apriori(dataset_as_list, min_support = 0.0053, min_confidence = 0.20, min_lift = 3, min_length = 2)\n",
    "association_results = list(association_rules)"
   ]
  },
  {
   "cell_type": "code",
   "execution_count": 5,
   "metadata": {
    "slideshow": {
     "slide_type": "subslide"
    }
   },
   "outputs": [
    {
     "name": "stdout",
     "output_type": "stream",
     "text": [
      "Length of association results:  1388\n"
     ]
    }
   ],
   "source": [
    "print(\"Length of association results: \", len(association_results))"
   ]
  },
  {
   "cell_type": "code",
   "execution_count": 6,
   "metadata": {
    "slideshow": {
     "slide_type": "subslide"
    }
   },
   "outputs": [
    {
     "name": "stdout",
     "output_type": "stream",
     "text": [
      "RelationRecord(items=frozenset({'Beirut', '13 Hours'}), support=0.02, ordered_statistics=[OrderedStatistic(items_base=frozenset({'13 Hours'}), items_add=frozenset({'Beirut'}), confidence=0.7999999999999999, lift=6.956521739130434)])\n"
     ]
    }
   ],
   "source": [
    "print(association_results[0])"
   ]
  },
  {
   "cell_type": "markdown",
   "metadata": {
    "slideshow": {
     "slide_type": "subslide"
    }
   },
   "source": [
    "### Another basic algorithm one can explore\n",
    "- Decision trees"
   ]
  },
  {
   "cell_type": "markdown",
   "metadata": {
    "slideshow": {
     "slide_type": "slide"
    }
   },
   "source": [
    "### Part 3: Using your powers for good\n",
    "#### Go do something great, good and impactful\n",
    "\n",
    "![House Party](./images/ironMan-hpProtocol.jpg)"
   ]
  },
  {
   "cell_type": "markdown",
   "metadata": {
    "slideshow": {
     "slide_type": "slide"
    }
   },
   "source": [
    "## But before we move forward, a slight detour"
   ]
  },
  {
   "cell_type": "markdown",
   "metadata": {
    "slideshow": {
     "slide_type": "subslide"
    }
   },
   "source": [
    "## A look at ORM"
   ]
  },
  {
   "cell_type": "markdown",
   "metadata": {
    "slideshow": {
     "slide_type": "subslide"
    }
   },
   "source": [
    "### What is ORM (or Object Relational Mapping)\n",
    "\n",
    "- At an highly abstract level, its just converting data between incompatible type systems\n",
    "- Used with object oriented languages"
   ]
  },
  {
   "cell_type": "markdown",
   "metadata": {
    "slideshow": {
     "slide_type": "subslide"
    }
   },
   "source": [
    "Here's a diagrammatic view: \n",
    "![orm](./images/orm.png)"
   ]
  },
  {
   "cell_type": "markdown",
   "metadata": {
    "slideshow": {
     "slide_type": "subslide"
    }
   },
   "source": [
    "### So what kind of a programming technique is ORM?\n",
    "\n",
    "- You don't have to worry about SQL queries as such\n",
    "- Within the comforts of your object oriented language you can map tables in your database into objects in your OOP language\n",
    "- You can manipulate those objects as you wish and the ORM framework will take care of persisting those new states into the respective tables\n",
    "- An even better way to design your project would be to totally separate your business logic from the database handling using the Data Access Object (DAO) design pattern"
   ]
  },
  {
   "cell_type": "markdown",
   "metadata": {
    "slideshow": {
     "slide_type": "subslide"
    }
   },
   "source": [
    "## Demo on ORM"
   ]
  },
  {
   "cell_type": "markdown",
   "metadata": {
    "slideshow": {
     "slide_type": "slide"
    }
   },
   "source": [
    "# That's it about ORMs, now back to Part 3 :) "
   ]
  },
  {
   "cell_type": "markdown",
   "metadata": {
    "slideshow": {
     "slide_type": "subslide"
    }
   },
   "source": [
    "Now that you are well versed about the field of Data Science once you have mastered the techniques and are well versed in it, you should know where you exercise your capabilities"
   ]
  },
  {
   "cell_type": "markdown",
   "metadata": {
    "slideshow": {
     "slide_type": "subslide"
    }
   },
   "source": [
    "How is data science helping the world?\n",
    "- Uber Eats uses it to optimize delivery routes thus saving on fuel consumption\n",
    "- In the Sports domain, teams use it to identify players and tactics that, statistically, show that they can deliver better results(Oakland Athletics which inspired the movie Moneyball)\n",
    "- E-commerce sites and their advertisements \n",
    "- Helping Facebook better connect you to people  you may know\n",
    "- Helping Tinder do the same by matching you to people who share your preferences (wait? dating is mathematics?)"
   ]
  },
  {
   "cell_type": "markdown",
   "metadata": {
    "slideshow": {
     "slide_type": "subslide"
    }
   },
   "source": [
    "How can you get started?\n",
    "- Kaggle! -> https://www.kaggle.com/\n",
    "- Join the Facebook Developer Circles:Data community, connect with other folks who dabble in data science [FDC: Data] (https://www.facebook.com/groups/138761710178602)\n",
    "- A good practice would be to search for datatsets online and try to extract insights from them (r/dataisbeautiful -> https://www.reddit.com/r/dataisbeautiful/)\n",
    "- Keep exploring :)"
   ]
  },
  {
   "cell_type": "markdown",
   "metadata": {
    "slideshow": {
     "slide_type": "subslide"
    }
   },
   "source": [
    "References:\n",
    "    - Data Mining-Concepts and Techniques: Han and Kamber \n",
    "    - SQL Alchemy tutorial by Vinay Kudari: (https://towardsdatascience.com/sqlalchemy-python-tutorial-79a577141a91)\n",
    "    - SQL Alchemy object persistence tutorial: (https://www.tutorialspoint.com/python_data_persistence/python_data_persistence_sqlalchemy.html)"
   ]
  },
  {
   "cell_type": "markdown",
   "metadata": {
    "slideshow": {
     "slide_type": "subslide"
    }
   },
   "source": [
    "That'll be all folks!\n",
    "Thank you for joining in.\n",
    "\n",
    "Connect with me:\n",
    "- [LinkedIn - Abdul Wasay] (https://www.linkedin.com/in/abdul-wasay-4915a3110/)\n",
    "- [GitHub - KnightTuring] (https://github.com/KnightTuring)\n",
    "- [Email - abdulwasay50@gmail.com]\n"
   ]
  }
 ],
 "metadata": {
  "celltoolbar": "Slideshow",
  "kernelspec": {
   "display_name": "Python 3",
   "language": "python",
   "name": "python3"
  },
  "language_info": {
   "codemirror_mode": {
    "name": "ipython",
    "version": 3
   },
   "file_extension": ".py",
   "mimetype": "text/x-python",
   "name": "python",
   "nbconvert_exporter": "python",
   "pygments_lexer": "ipython3",
   "version": "3.6.9"
  }
 },
 "nbformat": 4,
 "nbformat_minor": 4
}
